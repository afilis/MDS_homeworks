{
 "cells": [
  {
   "cell_type": "markdown",
   "metadata": {},
   "source": [
    "### Задание 1: \n",
    "Посчитайте частные производные функций\n",
    "(как обычно, необходимо решение на бумажке или в LaTeX и на scipy):"
   ]
  },
  {
   "cell_type": "markdown",
   "metadata": {},
   "source": [
    "1) $f(x,y)=2x^2y^3 + 1/x + y^2x + 7$, а для этой функции также градиент в точке $(1,2)$\n",
    "\n",
    "2) $f(x,y)=x^2y - sin(xy) + cos(x^2) + 6y$"
   ]
  },
  {
   "cell_type": "markdown",
   "metadata": {},
   "source": [
    "**Решение:**  \n",
    "\n",
    "1) $f(x,y)=2x^2y^3 + \\frac{1}{x} + y^2x + 7$  \n",
    "$\\frac{\\partial f}{\\partial x} = 4xy^3 - \\frac{1}{x^2} + y^2$  \n",
    "$\\frac{\\partial f}{\\partial y} = 6x^2y^2 + 2yx$  \n",
    "$\\nabla f = (4xy^3 - \\frac{1}{x^2} + y^2, 6x^2y^2 + 2yx)$  \n",
    "$\\nabla f_{(1,2)} = (4 * 1 * 2^3 - \\frac{1}{1^2} + 2^2, 6*1^2*2^2 + 2*2*1) = (35, 28)$  \n",
    "  \n",
    "2) $f(x,y)=x^2y - sin(xy) + cos(x^2) + 6y$  \n",
    "$\\frac{\\partial f}{\\partial x} = 2xy - ycos(xy) - 2xsin(x^2)$  \n",
    "$\\frac{\\partial f}{\\partial y} = x^2 - xcos(xy) + 6$  "
   ]
  },
  {
   "cell_type": "code",
   "execution_count": 1,
   "metadata": {},
   "outputs": [
    {
     "name": "stdout",
     "output_type": "stream",
     "text": [
      "\n"
     ]
    },
    {
     "data": {
      "image/png": "[encoded data removed]",
      "text/latex": [
       "$\\displaystyle \\left( 4 x y^{3} + y^{2} - \\frac{1}{x^{2}}, \\  6 x^{2} y^{2} + 2 x y\\right)$"
      ],
      "text/plain": [
       "⎛     3    2   1      2  2        ⎞\n",
       "⎜4⋅x⋅y  + y  - ──, 6⋅x ⋅y  + 2⋅x⋅y⎟\n",
       "⎜               2                 ⎟\n",
       "⎝              x                  ⎠"
      ]
     },
     "execution_count": 1,
     "metadata": {},
     "output_type": "execute_result"
    }
   ],
   "source": [
    "from sympy import diff, symbols, cos, sin, init_session\n",
    "\n",
    "init_session(quiet=True)\n",
    "\n",
    "x, y = symbols('x y')\n",
    "init_printing()\n",
    "\n",
    "f = 2 * x ** 2 * y ** 3 + 1 / x + y ** 2 * x + 7\n",
    "diff(f, x), diff(f, y)"
   ]
  },
  {
   "cell_type": "code",
   "execution_count": 2,
   "metadata": {},
   "outputs": [
    {
     "name": "stdout",
     "output_type": "stream",
     "text": [
      "Градиент f(x, y) в точке (1, 2) равен (35.0, 28.0).\n"
     ]
    }
   ],
   "source": [
    "def f_dx(x, y):\n",
    "    return 4. * x * y ** 3 + y ** 2 - 1 / x ** 2\n",
    "\n",
    "def f_dy(x, y):\n",
    "    return 6. * x ** 2 * y ** 2 + 2 * x * y\n",
    "\n",
    "x, y = (1, 2)\n",
    "print(f\"Градиент f(x, y) в точке ({x}, {y}) равен ({f_dx(x, y)}, {f_dy(x, y)}).\")"
   ]
  },
  {
   "cell_type": "code",
   "execution_count": 3,
   "metadata": {},
   "outputs": [
    {
     "data": {
      "image/png": "[encoded data removed]",
      "text/latex": [
       "$\\displaystyle \\left( 2 x y - 2 x \\sin{\\left(x^{2} \\right)} - y \\cos{\\left(x y \\right)}, \\  x^{2} - x \\cos{\\left(x y \\right)} + 6\\right)$"
      ],
      "text/plain": [
       "⎛               ⎛ 2⎞                2                 ⎞\n",
       "⎝2⋅x⋅y - 2⋅x⋅sin⎝x ⎠ - y⋅cos(x⋅y), x  - x⋅cos(x⋅y) + 6⎠"
      ]
     },
     "execution_count": 3,
     "metadata": {},
     "output_type": "execute_result"
    }
   ],
   "source": [
    "x, y = symbols('x y')\n",
    "init_printing()\n",
    "\n",
    "f = x ** 2 * y - sin(x * y) + cos(x ** 2) + 6 * y\n",
    "diff(f, x), diff(f, y)"
   ]
  },
  {
   "cell_type": "markdown",
   "metadata": {},
   "source": [
    "### Задание 2:\n",
    "\n",
    "Градиентный спуск своими руками"
   ]
  },
  {
   "cell_type": "markdown",
   "metadata": {},
   "source": [
    "**Решение:**  \n",
    "\n",
    "$f = x_1^2 + x_2^2$  \n",
    "$\\frac{\\partial f}{\\partial x_1} = 2x_1$  \n",
    "$\\frac{\\partial f}{\\partial x_2} = 2x_2$   \n",
    "$\\nabla f = (\\frac{\\partial f}{\\partial x_1}, \\frac{\\partial f}{\\partial x_2}) = (2x_1, 2x_2)$"
   ]
  },
  {
   "cell_type": "code",
   "execution_count": 4,
   "metadata": {},
   "outputs": [
    {
     "name": "stdout",
     "output_type": "stream",
     "text": [
      "Минимум достигается в:  [2.03703598e-08 4.07407195e-08]\n",
      "Значение функции в минимуме:  2.0747577844404994e-15\n"
     ]
    }
   ],
   "source": [
    "import numpy as np\n",
    "from scipy.optimize import approx_fprime\n",
    "\n",
    "def f(x):\n",
    "    return x[0]**2 + x[1]**2\n",
    "\n",
    "x = np.array([100, 200])\n",
    "learning_rate = 0.1\n",
    "\n",
    "for i in range(100):\n",
    "    # Calculate gradient\n",
    "    grad = np.array([x[0] * 2, x[1] * 2])\n",
    "    \n",
    "    # Update x with gradient\n",
    "    x = x - grad * learning_rate\n",
    "    \n",
    "print(\"Минимум достигается в: \", x)\n",
    "print(\"Значение функции в минимуме: \", f(x))"
   ]
  },
  {
   "cell_type": "markdown",
   "metadata": {},
   "source": [
    "Проверка с помощью встроенной функции numpy: "
   ]
  },
  {
   "cell_type": "code",
   "execution_count": 5,
   "metadata": {},
   "outputs": [
    {
     "name": "stdout",
     "output_type": "stream",
     "text": [
      "С использованием функции approx_fprime()\n",
      "Минимум достигается в:  [1.29197811e-08 3.32901401e-08]\n",
      "Значение функции в минимуме:  1.2751541739575636e-15\n",
      "С использованием функции minimize()\n",
      "Минимум достигается в:  [ 3.31391559e-09 -1.82888492e-09]\n",
      "Значение функции в минимуме:  1.4326856592347756e-17\n"
     ]
    }
   ],
   "source": [
    "from scipy.optimize import minimize\n",
    "\n",
    "x = np.array([100, 200])\n",
    "eps = np.sqrt(np.finfo(float).eps)\n",
    "\n",
    "for i in range(100):\n",
    "    # Calculate gradient\n",
    "    grad = approx_fprime(x, f, [eps, eps])\n",
    "    \n",
    "    # Update x with gradient\n",
    "    x = x - grad * learning_rate\n",
    "\n",
    "print(\"С использованием функции approx_fprime()\")\n",
    "print(\"Минимум достигается в: \", x)\n",
    "print(\"Значение функции в минимуме: \", f(x))\n",
    "\n",
    "x = np.array([100, 200])\n",
    "min_x = minimize(f, x, method='nelder-mead', options={'xtol': eps}).x\n",
    "print(\"С использованием функции minimize()\")\n",
    "print(\"Минимум достигается в: \", min_x)\n",
    "print(\"Значение функции в минимуме: \", f(min_x))"
   ]
  }
 ],
 "metadata": {
  "kernelspec": {
   "display_name": "Python 3",
   "language": "python",
   "name": "python3"
  },
  "language_info": {
   "codemirror_mode": {
    "name": "ipython",
    "version": 3
   },
   "file_extension": ".py",
   "mimetype": "text/x-python",
   "name": "python",
   "nbconvert_exporter": "python",
   "pygments_lexer": "ipython3",
   "version": "3.7.6"
  }
 },
 "nbformat": 4,
 "nbformat_minor": 2
}
