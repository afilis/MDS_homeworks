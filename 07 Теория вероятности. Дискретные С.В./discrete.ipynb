{
 "cells": [
  {
   "cell_type": "markdown",
   "metadata": {},
   "source": [
    "**Уровень 0**  \n",
    "***Задание 1***  \n",
    "Монетку подбрасывают 15 раз, найдите вероятность выпадения простого числа орлов (решение на бумажке и на python)."
   ]
  },
  {
   "cell_type": "markdown",
   "metadata": {},
   "source": [
    "**Решение:**  \n",
    "Вероятность выпадания орла находится по формуле Бернулли: $P_{k,n}=C_n^k\\cdot p^k \\cdot q^{n-k}$, где:  \n",
    "$C_n^k = \\frac{n!}{k!(n-k)!}$ - биномиальный коэффициент  \n",
    "$n = 15$ - кол-во испытаний;  \n",
    "$k$ - кол-во испытаний, в которых наступило ожидаемое событие;  \n",
    "$p = \\frac{1}{2}$ - вероятность события при 1 испытании;  \n",
    "$q = 1 - p = \\frac{1}{2}$ - обратная вероятность.  \n",
    "Таким образом, в зависимости от простого числа орлов k, вероятность выпадения будет рассчитываться по формуле:  \n",
    "$P_{k}=\\frac{15!}{k!(15-k)}\\cdot \\frac{1}{2^k}\\cdot \\frac{1}{2^{15-k}}=\\frac{15!}{k!(15-k)!2^{15}}$."
   ]
  },
  {
   "cell_type": "code",
   "execution_count": 1,
   "metadata": {},
   "outputs": [
    {
     "data": {
      "image/png": "[encoded data removed]",
      "text/plain": [
       "<Figure size 432x288 with 1 Axes>"
      ]
     },
     "metadata": {
      "needs_background": "light"
     },
     "output_type": "display_data"
    }
   ],
   "source": [
    "import math\n",
    "from scipy import special\n",
    "import matplotlib.pyplot as plt\n",
    "\n",
    "def bern(n, k, p):\n",
    "    return special.comb(n, k, exact=True) * p ** k * (1 - p) ** (n - k)\n",
    "\n",
    "n = 15\n",
    "p = 1 / 2\n",
    "x = [x for x in range(0, 16)]\n",
    "y = []\n",
    "for k in x:\n",
    "    y.append(bern(n, k, p))\n",
    "\n",
    "plt.plot(x, y)\n",
    "plt.xlabel(\"Кол-во выпадения орла из 15 подбрасываний\")\n",
    "plt.ylabel(\"Выроятность выпадения орла\")\n",
    "plt.xticks(x)\n",
    "plt.grid()"
   ]
  },
  {
   "cell_type": "markdown",
   "metadata": {},
   "source": [
    "***Задание 2***  \n",
    "Создайте свою дискретную случайную величину с не менее, чем 10 значениями. Просемплируйте 1000 случайных значений, постройте гистограмму плотности распределения по выборке, посчитайте среднее, дисперсию и медиану."
   ]
  },
  {
   "cell_type": "code",
   "execution_count": 2,
   "metadata": {},
   "outputs": [
    {
     "name": "stdout",
     "output_type": "stream",
     "text": [
      "Среднее: 29.792, медиана: 30.0, дисперсия: 142.09673599999994\n",
      "\n",
      "Проверка (средствами numpy):\n",
      "Среднее: 29.792, медиана: 30.0, дисперсия: 142.09673599999996\n"
     ]
    },
    {
     "data": {
      "image/png": "[encoded data removed]",
      "text/plain": [
       "<Figure size 432x288 with 1 Axes>"
      ]
     },
     "metadata": {
      "needs_background": "light"
     },
     "output_type": "display_data"
    }
   ],
   "source": [
    "import numpy as np\n",
    "\n",
    "def get_mean(lst):\n",
    "    s = 0\n",
    "    for val in lst:\n",
    "        s += val\n",
    "    return s / len(lst)\n",
    "\n",
    "def get_median(lst):\n",
    "    srt = sorted(lst)\n",
    "    n = len(srt) // 2 \n",
    "    if len(srt) % 2 == 1:\n",
    "        return srt[n]\n",
    "    else:\n",
    "        return (srt[n] + srt[n - 1]) / 2\n",
    "    \n",
    "def get_disp(lst):\n",
    "    mean = get_mean(lst)\n",
    "    s = 0\n",
    "    for val in lst:\n",
    "        s += (mean - val) ** 2\n",
    "    return s / len(lst)\n",
    "    \n",
    "vals = np.random.randint(low=10, high=51, size=1000)\n",
    "print(f\"Среднее: {get_mean(vals)}, медиана: {get_median(vals)}, дисперсия: {get_disp(vals)}\")\n",
    "print(\"\\nПроверка (средствами numpy):\")\n",
    "print(f\"Среднее: {np.mean(vals)}, медиана: {np.median(vals)}, дисперсия: {np.var(vals)}\")\n",
    "plt.hist(vals, bins=len(np.unique(vals)))\n",
    "plt.show()"
   ]
  },
  {
   "cell_type": "markdown",
   "metadata": {},
   "source": [
    "**Уровень 1**  \n",
    "***Задание 3***  \n",
    "\n",
    "Пусть брошены 3 уравновешенные монеты. Рассмотрим 3 события:  \n",
    "𝐴1  - монеты 1 и 2 упали одной и той же стороной,  \n",
    "𝐴2  - монеты 2 и 3 упали одной и той же стороной,  \n",
    "𝐴3  - монеты 1 и 3 упали одной и той же стороной.  \n",
    "\n",
    "Покажите, почему эти 3 события являются попарно независимыми, но не являются независимыми в совокупности."
   ]
  },
  {
   "cell_type": "markdown",
   "metadata": {},
   "source": [
    "**Решение:**\n",
    "Вероятности каждого из событий:  \n",
    "$P(A_1)=P(A_2)=P(A_3)=\\frac 12$.  \n",
    "\n",
    "Вероятность совместного появления 2-х событий:  \n",
    "$P(A_1 \\cap A_2)=P(A_2 \\cap A_3)=P(A_1 \\cap A_3)=\\frac 14$.  \n",
    "\n",
    "Произведения вероятностей соответствующих событий:  \n",
    "$P(A_1) \\cdot P(A_2) = P(A_2) \\cdot P(A_3) = P(A_1) \\cdot P(A_3) = \\frac 14$.  \n",
    "\n",
    "События $A_i$ попарно независимые, т.к. выполняются:  \n",
    "$P(A_1 \\cap A_2) = P(A_1) \\cdot P(A_2)$,  \n",
    "$P(A_2 \\cap A_3) = P(A_2) \\cdot P(A_3)$,  \n",
    "$P(A_1 \\cap A_3) = P(A_1) \\cdot P(A_3)$.  \n",
    "\n",
    "Для $A_1 \\cap A_2 \\cap A_3$, если какие-то 2-х события произошли, то произошло и 3-е, поэтому:  \n",
    "$P(A_1 \\cap A_2 \\cap A_3) = \\frac14$.\n",
    "\n",
    "Произведение вероятностей всех событий:  \n",
    "$P(A_1) \\cdot P(A_2) \\cdot P(A_3) = \\frac 18$  \n",
    "\n",
    "Условие независимости в данном случае не выполняется:  \n",
    "$P(A_1 \\cap A_2 \\cap A_3) \\neq P(A_1) \\cdot P(A_2) \\cdot P(A_3)$."
   ]
  },
  {
   "cell_type": "markdown",
   "metadata": {},
   "source": [
    "***Задание 4 (формула полной вероятности)***  \n",
    "В магазин привезли устройства с 3-х разных предприятий. Соотношение устройств следующее: 20% - продукция первого предприятия, 30% - продукция второго предприятия, 50% - продукция третьего предприятия; далее, 10% продукции первого предприятия высшего сорта, на втором предприятии - 5% и на третьем - 20% продукции высшего сорта. Найти вероятность того, что случайно купленная новая продукция окажется высшего сорта."
   ]
  },
  {
   "cell_type": "markdown",
   "metadata": {},
   "source": [
    "**Решение:**  \n",
    "Обозначим получение продукции каждого предприятия как событие $B_i$. Тогда вероятности событий $B_i$:  \n",
    "$P(B_1)=0,2$,  \n",
    "$P(B_2)=0,3$,  \n",
    "$P(B_3)=0,5$.  \n",
    "\n",
    "По условию задачи вероятность нахожения качественного товара A на каждом предприятии своя, т.е:  \n",
    "$P(A|B_1)=0,1$,  \n",
    "$P(A|B_2)=0,05$,  \n",
    "$P(A|B_3)=0,2$  \n",
    "\n",
    "Важно заметить, что: $\\sum_{n=1}^{3}{P(B_i)} = 1$, а, значит, события $B_i$ образуют полную группу и можно воспользоваться формулой полной вероятности:  \n",
    "$P(A)=\\sum_{n=1}^{3}{P(A|B_i) \\cdot P(B_i)}$.  \n",
    "\n",
    "Тогда:  \n",
    "$P(A)=0,1 \\cdot 0,2 + 0,05 \\cdot 0,3 + 0,2 \\cdot 0,5 = 0,135 = 13,5\\%$."
   ]
  }
 ],
 "metadata": {
  "kernelspec": {
   "display_name": "Python 3",
   "language": "python",
   "name": "python3"
  },
  "language_info": {
   "codemirror_mode": {
    "name": "ipython",
    "version": 3
   },
   "file_extension": ".py",
   "mimetype": "text/x-python",
   "name": "python",
   "nbconvert_exporter": "python",
   "pygments_lexer": "ipython3",
   "version": "3.7.6"
  }
 },
 "nbformat": 4,
 "nbformat_minor": 4
}
