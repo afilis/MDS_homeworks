{
 "cells": [
  {
   "cell_type": "markdown",
   "metadata": {},
   "source": [
    "**Итоговая работа**  \n",
    "\n",
    "**Задание 1**  \n",
    "Дана матрица рейтингов фильмов (строки - пользователи (10 человек), столбцы - фильмы (15 фильмов))\n",
    "```python\n",
    "raitings = np.array([[ 4,  4,  9,  4,  1,  6, 10,  7,  9,  6,  9,  2,  8,  6,  6],\n",
    "                     [ 9,  2,  5, 10,  7,  8, 10,  5,  6,  2,  1,  6,  8,  9,  7],\n",
    "                     [ 1,  6,  8,  8,  4,  9,  3,  8, 10,  5,  2,  6,  8,  1,  6],\n",
    "                     [ 6,  1,  9,  7,  7,  9,  2,  3,  5,  1,  6,  6,  3,  2,  7],\n",
    "                     [ 3,  7,  3,  5,  7,  9,  9,  6,  2,  9,  1,  2,  8, 10,  6],\n",
    "                     [ 8,  3,  7,  3,  8,  6,  1,  8,  8,  6,  1,  9,  4, 10,  1],\n",
    "                     [ 9,  8,  4,  8,  8, 10,  6,  1,  1,  2,  9,  5,  2,  7,  2],\n",
    "                     [ 4,  1,  6,  4,  3, 10,  4,  4,  2,  8,  7,  9,  3,  8,  3],\n",
    "                     [ 2,  7,  7,  6, 10,  6,  8,  9,  8,  6, 10,  1,  7, 10,  4],\n",
    "                     [ 5, 10,  8,  8,  9,  7,  2,  9,  9, 10,  8,  8,  8,  6, 10]])\n",
    "```\n",
    "<b>a)</b> Необходимо найти наиболее похожего пользователя по косинусной метрике для каждого из (ответ: 10 пар вида (x, y), где y - наиболее похожий пользователь на пользователя x)."
   ]
  },
  {
   "cell_type": "code",
   "execution_count": 1,
   "metadata": {},
   "outputs": [
    {
     "name": "stdout",
     "output_type": "stream",
     "text": [
      "Наиболее близкие пары:\n",
      "[[ 4  4  9  4  1  6 10  7  9  6  9  2  8  6  6]\n",
      " [ 2  7  7  6 10  6  8  9  8  6 10  1  7 10  4]]\n",
      "[[ 9  2  5 10  7  8 10  5  6  2  1  6  8  9  7]\n",
      " [ 3  7  3  5  7  9  9  6  2  9  1  2  8 10  6]]\n",
      "[[ 1  6  8  8  4  9  3  8 10  5  2  6  8  1  6]\n",
      " [ 5 10  8  8  9  7  2  9  9 10  8  8  8  6 10]]\n",
      "[[ 6  1  9  7  7  9  2  3  5  1  6  6  3  2  7]\n",
      " [ 5 10  8  8  9  7  2  9  9 10  8  8  8  6 10]]\n",
      "[[ 3  7  3  5  7  9  9  6  2  9  1  2  8 10  6]\n",
      " [ 2  7  7  6 10  6  8  9  8  6 10  1  7 10  4]]\n",
      "[[ 8  3  7  3  8  6  1  8  8  6  1  9  4 10  1]\n",
      " [ 5 10  8  8  9  7  2  9  9 10  8  8  8  6 10]]\n",
      "[[ 9  8  4  8  8 10  6  1  1  2  9  5  2  7  2]\n",
      " [ 6  1  9  7  7  9  2  3  5  1  6  6  3  2  7]]\n",
      "[[ 4  1  6  4  3 10  4  4  2  8  7  9  3  8  3]\n",
      " [ 8  3  7  3  8  6  1  8  8  6  1  9  4 10  1]]\n",
      "[[ 2  7  7  6 10  6  8  9  8  6 10  1  7 10  4]\n",
      " [ 4  4  9  4  1  6 10  7  9  6  9  2  8  6  6]]\n",
      "[[ 5 10  8  8  9  7  2  9  9 10  8  8  8  6 10]\n",
      " [ 1  6  8  8  4  9  3  8 10  5  2  6  8  1  6]]\n"
     ]
    }
   ],
   "source": [
    "import numpy as np\n",
    "import matplotlib.pyplot as plt\n",
    "from scipy.optimize import minimize\n",
    "import scipy.stats as sts\n",
    "from scipy.misc import derivative\n",
    "\n",
    "def cosine(a, b):\n",
    "    aLength = np.linalg.norm( a )\n",
    "    bLength = np.linalg.norm( b )\n",
    "    return np.dot(a, b) / (aLength * bLength)\n",
    "\n",
    "raitings = np.array([[ 4,  4,  9,  4,  1,  6, 10,  7,  9,  6,  9,  2,  8,  6,  6],\n",
    "                     [ 9,  2,  5, 10,  7,  8, 10,  5,  6,  2,  1,  6,  8,  9,  7],\n",
    "                     [ 1,  6,  8,  8,  4,  9,  3,  8, 10,  5,  2,  6,  8,  1,  6],\n",
    "                     [ 6,  1,  9,  7,  7,  9,  2,  3,  5,  1,  6,  6,  3,  2,  7],\n",
    "                     [ 3,  7,  3,  5,  7,  9,  9,  6,  2,  9,  1,  2,  8, 10,  6],\n",
    "                     [ 8,  3,  7,  3,  8,  6,  1,  8,  8,  6,  1,  9,  4, 10,  1],\n",
    "                     [ 9,  8,  4,  8,  8, 10,  6,  1,  1,  2,  9,  5,  2,  7,  2],\n",
    "                     [ 4,  1,  6,  4,  3, 10,  4,  4,  2,  8,  7,  9,  3,  8,  3],\n",
    "                     [ 2,  7,  7,  6, 10,  6,  8,  9,  8,  6, 10,  1,  7, 10,  4],\n",
    "                     [ 5, 10,  8,  8,  9,  7,  2,  9,  9, 10,  8,  8,  8,  6, 10]])\n",
    "\n",
    "ys = []\n",
    "for i in range(len(raitings)):                  # попарно сравниваем пользователей\n",
    "    acs = []\n",
    "    for j in range(len(raitings)):\n",
    "        if i == j:\n",
    "            acs.append(2)                       # заглушка для работы min(): -1 <= arccos(x) <= 1\n",
    "            continue\n",
    "        cos = cosine(raitings[i], raitings[j])  # вычисляем косинус угла между векторами\n",
    "        acs.append(np.arccos(cos))              # добавляем в массив арккосинус\n",
    "    ys.append(acs.index(min(acs)))              # находим индекс с минимальным значением\n",
    "\n",
    "print(\"Наиболее близкие пары:\")\n",
    "for x, y in enumerate(ys):\n",
    "    print(np.array([raitings[x], raitings[y]]))"
   ]
  },
  {
   "cell_type": "markdown",
   "metadata": {},
   "source": [
    "<b>b)</b> Предположим, вы захотели сжать признаковые описания пользователя с 15 фильмов, до, скажем, 5-ти признаков, как вы это сделаете?"
   ]
  },
  {
   "cell_type": "markdown",
   "metadata": {},
   "source": [
    "***Решение***  \n",
    "Чтобы при таком сжатии потерять как можно меньше данных необходимо использвать разложение матрицы. Матрица несимметричная, поэтому можно использовать сингулярное разложение с приближением матрицей ранга k=5."
   ]
  },
  {
   "cell_type": "markdown",
   "metadata": {},
   "source": [
    "***Задание 2***  \n",
    "Вычислите производную $tg^2(sin(x) + cos(2x+3))$ в точке $x_0=1$ на python и на бумаге (просто подставить точку в производную и ничего не упрощать)."
   ]
  },
  {
   "cell_type": "markdown",
   "metadata": {},
   "source": [
    "***Решение:***  \n",
    "$f(x) = tg^2(sin(x)+cos(2x+3))$. \n",
    "$f'(x) = 2 \\cdot tg(sin(x)+cos(2x+3)) \\cdot (tg(sin(x)+cos(2x+3)))' = \\frac {2 \\cdot tg(sin(x)+cos(2x+3)) \\cdot (sin(x)+cos(2x+3))'}{ cos^2(sin(x)+cos(2x+3))} = \\frac {2 \\cdot tg(sin(x)+cos(2x+3)) \\cdot (cos(x)-2sin(2x+3))}{ cos^2(sin(x)+cos(2x+3))}$.  \n",
    "$f'(x=x_0) = \\frac {2 \\cdot tg(sin(1)+cos(5)) \\cdot (cos(1)-2sin(5))}{ cos^2(sin(1)+cos(5))} = 55.38591763533786$."
   ]
  },
  {
   "cell_type": "code",
   "execution_count": 2,
   "metadata": {},
   "outputs": [
    {
     "name": "stdout",
     "output_type": "stream",
     "text": [
      "Значение f'(x) в точке x0 равно 55.38591754117306.\n"
     ]
    }
   ],
   "source": [
    "def f(x):\n",
    "    return np.tan(np.sin(x) + np.cos(2*x + 3)) ** 2\n",
    "\n",
    "x0 = 1\n",
    "f1x = derivative(f, x0, dx=1e-8, n=1)\n",
    "print(f\"Значение f'(x) в точке x0 равно {f1x}.\")"
   ]
  },
  {
   "cell_type": "markdown",
   "metadata": {},
   "source": [
    "***Задание 3***  \n",
    "Дана функция с неизвестными параметрами a и b, вам также известны значения функции fx в точках x. Найдите оптимальные параметры a, b, минимизирующие абсолютную ошибку <b>error</b>.\n",
    "```python\n",
    "x = np.array([0.        , 0.26315789, 0.52631579, 0.78947368, 1.05263158,\n",
    "              1.31578947, 1.57894737, 1.84210526, 2.10526316, 2.36842105,\n",
    "              2.63157895, 2.89473684, 3.15789474, 3.42105263, 3.68421053,\n",
    "              3.94736842, 4.21052632, 4.47368421, 4.73684211, 5.        ])\n",
    "\n",
    "fx = np.array([  0.        , -12.01819092, -18.90968634, -17.68786571,\n",
    "                -8.7529108 ,   4.27524517,  16.06801336,  21.81250213,\n",
    "                19.22059845,   9.48411207,  -3.22273056, -13.48576488,\n",
    "               -16.91096359, -11.95866834,  -0.58630088,  12.56873816,\n",
    "                22.12489421,  24.20292139,  18.04522521,   6.33211092])\n",
    "def f(x, a, b):\n",
    "    return np.e**a * np.sin(b*x) + x\n",
    "\n",
    "def error(params):\n",
    "    return np.sum(np.abs(fx - f(x, params[0], params[1])))\n",
    "```"
   ]
  },
  {
   "cell_type": "code",
   "execution_count": 3,
   "metadata": {},
   "outputs": [
    {
     "data": {
      "image/png": "[encoded data removed]",
      "text/plain": [
       "<Figure size 432x288 with 1 Axes>"
      ]
     },
     "metadata": {
      "needs_background": "light"
     },
     "output_type": "display_data"
    },
    {
     "name": "stdout",
     "output_type": "stream",
     "text": [
      "Коэффициенты : a = 1.9528258658399409, b = 1.5662520728171807\n",
      "Ошибка       : 228.3567196969551\n"
     ]
    }
   ],
   "source": [
    "x = np.array([0.        , 0.26315789, 0.52631579, 0.78947368, 1.05263158,\n",
    "              1.31578947, 1.57894737, 1.84210526, 2.10526316, 2.36842105,\n",
    "              2.63157895, 2.89473684, 3.15789474, 3.42105263, 3.68421053,\n",
    "              3.94736842, 4.21052632, 4.47368421, 4.73684211, 5.        ])\n",
    "\n",
    "fx = np.array([  0.        , -12.01819092, -18.90968634, -17.68786571,\n",
    "                -8.7529108 ,   4.27524517,  16.06801336,  21.81250213,\n",
    "                19.22059845,   9.48411207,  -3.22273056, -13.48576488,\n",
    "               -16.91096359, -11.95866834,  -0.58630088,  12.56873816,\n",
    "                22.12489421,  24.20292139,  18.04522521,   6.33211092])\n",
    "\n",
    "def f(x, a, b):\n",
    "    return np.e**a * np.sin(b*x) + x\n",
    "\n",
    "def error(params):\n",
    "    return np.sum(np.abs(fx - f(x, params[0], params[1])))\n",
    "\n",
    "result = minimize(error, (1, 1), method='nelder-mead', options={'xtol': 1e-6})\n",
    "fx2 = f(x, result.x[0], result.x[1])\n",
    "plt.plot(x, fx, label=\"$f(x)\\ по\\ точкам$\")\n",
    "plt.plot(x, fx2, label=\"$f2(x) = e^a \\cdot sin(b \\cdot x) + x$\")\n",
    "plt.legend()\n",
    "plt.show()\n",
    "print(f\"Коэффициенты : a = {result.x[0]}, b = {result.x[1]}\")\n",
    "print(f\"Ошибка       : {error(result.x)}\")"
   ]
  },
  {
   "cell_type": "markdown",
   "metadata": {},
   "source": [
    "***Задание 4***  \n",
    "Создайте собственную дискретную случайную величину с 20 значениями. Сгенерируйте 1000 выборок размера 50. Посчитайте среднее для каждой выборки. Постройте гистограмму распределения средних."
   ]
  },
  {
   "cell_type": "code",
   "execution_count": 4,
   "metadata": {},
   "outputs": [
    {
     "data": {
      "image/png": "[encoded data removed]",
      "text/plain": [
       "<Figure size 432x288 with 1 Axes>"
      ]
     },
     "metadata": {
      "needs_background": "light"
     },
     "output_type": "display_data"
    }
   ],
   "source": [
    "samples_count = 1000\n",
    "size = 50\n",
    "low = 10\n",
    "high = 30\n",
    "\n",
    "a = np.array([])\n",
    "for number in range(samples_count):\n",
    "    sample = np.random.randint(low=low, high=high, size=size)\n",
    "    a = np.append(a, sample.mean())\n",
    "plt.hist(a, density=True, bins=high-low, label=f\"Средние выборок размера {size}\")\n",
    "\n",
    "plt.title(\"Гистограмма средних выборки\")\n",
    "plt.ylabel(\"Средние выборки\")\n",
    "plt.xlabel(\"x\")\n",
    "plt.show()"
   ]
  },
  {
   "cell_type": "markdown",
   "metadata": {},
   "source": [
    "***Задание 5***  \n",
    "Найдите собственные значения и собственные вектора матрицы (на python и на бумаге)  \n",
    "[[1, 4],  \n",
    "[1, 1]]"
   ]
  },
  {
   "cell_type": "markdown",
   "metadata": {},
   "source": [
    "***Решение:***\n",
    "\n",
    "Для нахождения собственных значений выполним преобразование: $A - \\lambda \\cdot I$,  \n",
    "где $\\lambda$ - собственное значение, которое нужно вычислить, $I$ - единичная матрица.  \n",
    "Получим матрицу:  \n",
    "$\\begin{bmatrix}\n",
    "1-\\lambda & 4\\\\\n",
    "1 & 1-\\lambda\n",
    "\\end{bmatrix}$.  \n",
    "\n",
    "Далее приравняем ее определитель к нулю и вычислим корни уравнения:  \n",
    "$\\begin{vmatrix}\n",
    "1-\\lambda & 4\\\\\n",
    "1 & 1-\\lambda\n",
    "\\end{vmatrix} = (1 - \\lambda)^2 - 4 = 0$.  \n",
    "$\\underline{\\lambda_1 = -1, \\lambda_2 = 3}$.  \n",
    "\n",
    "Теперь, подставив полученные $\\lambda_i$ в преобразованную матрицу, получим 2 матрицы, или 2 системы линейных уравнений:   \n",
    "$\\begin{equation*}\n",
    " \\begin{cases}\n",
    "   2x + 4y = 0, \n",
    "   \\\\\n",
    "   x + 2y = 0.\n",
    " \\end{cases}\n",
    "\\end{equation*}$ и $\\begin{equation*}\n",
    " \\begin{cases}\n",
    "   -2x + 4y = 0, \n",
    "   \\\\\n",
    "   x - 2y = 0.\n",
    " \\end{cases}\n",
    "\\end{equation*}$  \n",
    "Решением этих систем будут собственные векторы исходной матрицы $v_i = \\begin{pmatrix}\n",
    "x\\\\\n",
    "y\n",
    "\\end{pmatrix}$:  \n",
    "$\\underline{v_1=\\begin{pmatrix}\n",
    "2\\\\\n",
    "-1\n",
    "\\end{pmatrix}, v_2=\\begin{pmatrix}\n",
    "2\\\\\n",
    "1\n",
    "\\end{pmatrix}}$."
   ]
  },
  {
   "cell_type": "code",
   "execution_count": 5,
   "metadata": {},
   "outputs": [
    {
     "name": "stdout",
     "output_type": "stream",
     "text": [
      "Собственное значение 3.0, собственный вектор [0.8944272 0.4472136]\n",
      "Собственное значение -1.0, собственный вектор [-0.8944272  0.4472136]\n",
      "Вычисленные векторы отличаются от расчетных произведением на некоторую величину,\n",
      "т.к. полученная система уравнений имеет множество решений.\n"
     ]
    }
   ],
   "source": [
    "m = np.array([[1, 4], [1, 1]], dtype=np.float32)\n",
    "lmd, vec = np.linalg.eig(m)\n",
    "for i in range(len(lmd)):\n",
    "    print(f\"Собственное значение {str(lmd[i])}, собственный вектор {str(vec[:,i])}\")\n",
    "print(\"\"\"Вычисленные векторы отличаются от расчетных произведением на некоторую величину,\n",
    "т.к. полученная система уравнений имеет множество решений.\"\"\")"
   ]
  }
 ],
 "metadata": {
  "kernelspec": {
   "display_name": "Python 3",
   "language": "python",
   "name": "python3"
  },
  "language_info": {
   "codemirror_mode": {
    "name": "ipython",
    "version": 3
   },
   "file_extension": ".py",
   "mimetype": "text/x-python",
   "name": "python",
   "nbconvert_exporter": "python",
   "pygments_lexer": "ipython3",
   "version": "3.7.6"
  }
 },
 "nbformat": 4,
 "nbformat_minor": 4
}
