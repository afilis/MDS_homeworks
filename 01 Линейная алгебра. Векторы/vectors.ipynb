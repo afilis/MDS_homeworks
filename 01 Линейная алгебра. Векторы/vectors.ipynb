{
 "cells": [
  {
   "cell_type": "markdown",
   "metadata": {},
   "source": [
    "**Уровень 1:**  \n",
    "Даны дома из Бостона  \n",
    "Выбрать любые n домов, образующих базис в пространстве признаков дома (все колонки, кроме medv)  \n",
    "Написать код разложения дома по указанному базису"
   ]
  },
  {
   "cell_type": "code",
   "execution_count": 228,
   "metadata": {},
   "outputs": [
    {
     "name": "stdout",
     "output_type": "stream",
     "text": [
      "Базис:\n",
      "[\n",
      "  [ 4.64689 0.0 18.1 0.0 0.614 6.98 67.6 2.5329 24.0 666.0 20.2 374.68 11.66 ],\n",
      "  [ 0.16439 22.0 5.86 0.0 0.431 6.433 49.1 7.8265 7.0 330.0 19.1 374.71 9.52 ],\n",
      "  [ 9.32909 0.0 18.1 0.0 0.713 6.185 98.7 2.2616 24.0 666.0 20.2 396.9 18.13 ],\n",
      "  [ 3.1636 0.0 18.1 0.0 0.655 5.759 48.2 3.0665 24.0 666.0 20.2 334.4 14.13 ],\n",
      "  [ 0.0686 0.0 2.89 0.0 0.445 7.416 62.5 3.4952 2.0 276.0 18.0 396.9 6.19 ],\n",
      "  [ 0.11432 0.0 8.56 0.0 0.52 6.781 71.3 2.8561 5.0 384.0 20.9 395.58 7.67 ],\n",
      "  [ 0.04301 80.0 1.91 0.0 0.413 5.663 21.9 10.5857 4.0 334.0 22.0 382.8 8.05 ],\n",
      "  [ 0.05059 0.0 4.49 0.0 0.449 6.389 48.0 4.7794 3.0 247.0 18.5 396.9 9.62 ],\n",
      "  [ 0.03705 20.0 3.33 0.0 0.4429 6.968 37.2 5.2447 5.0 216.0 14.9 392.23 4.59 ],\n",
      "  [ 8.98296 0.0 18.1 1.0 0.77 6.212 97.4 2.1222 24.0 666.0 20.2 377.73 17.6 ],\n",
      "  [ 0.06151 0.0 5.19 0.0 0.515 5.968 58.5 4.8122 5.0 224.0 20.2 396.9 9.29 ],\n",
      "  [ 0.02498 0.0 1.89 0.0 0.518 6.54 59.7 6.2669 1.0 422.0 15.9 389.96 8.65 ],\n",
      "  [ 0.26938 0.0 9.9 0.0 0.544 6.266 82.8 3.2628 4.0 304.0 18.4 393.39 7.9 ]\n",
      "]\n",
      "\n",
      "Дом:\n",
      "[ 0.06642 0.0 4.05 0.0 0.51 6.86 74.4 2.9153 5.0 296.0 16.6 391.27 6.92 ]\n",
      "\n",
      "Результат разложения:\n",
      "[ -131.87377888011923 3.1156843130385923 -67.90872768802261 517.4159138896756 -1752.6941591460218 -307.19645584261656 9.240253155576804 -51.950694279793765 51.32526275544969 2.084310187315846 -57.23729781806868 7.938043174402478 11.265704946105195 ]\n",
      "\n",
      "Проверка:\n",
      "[ 0.06642 0.0 4.05 -0.0 0.51 6.86 74.4 2.9153 5.0 296.0 16.6 391.27 6.92 ]\n"
     ]
    }
   ],
   "source": [
    "import random\n",
    "import numpy as np\n",
    "\n",
    "def load_table(fname):\n",
    "    table = []\n",
    "    with open(fname) as f:\n",
    "        f.readline()\n",
    "        for line in f:\n",
    "            row = [float(i) for i in line.strip().split(',')]\n",
    "            del row[len(row) - 1]\n",
    "            table.append(row)\n",
    "    return table\n",
    "\n",
    "def get_random_house(table):\n",
    "    return table[round(random.random() * (len(table) - 1))]\n",
    "\n",
    "def print_basis(b):\n",
    "    print(\"[\")\n",
    "    for i, row in enumerate(b):\n",
    "        st = \"  [ \"\n",
    "        for item in row:\n",
    "            st += f\"{item} \"\n",
    "        if i != len(b) - 1:\n",
    "            st += \"],\"\n",
    "        else:\n",
    "            st += \"]\"\n",
    "        print(st)\n",
    "    print(\"]\")\n",
    "    \n",
    "def print_house(h):\n",
    "    st = \"[ \"\n",
    "    for item in h:\n",
    "        st += f\"{item} \"\n",
    "    st += \"]\"\n",
    "    print(st)\n",
    "\n",
    "\n",
    "houses = load_table(\"boston_data.csv\")\n",
    "\n",
    "while True:\n",
    "    # генерируем набор векторов из предоставленных данных\n",
    "    basis = []\n",
    "    for i in range(len(houses[0])):\n",
    "        basis.append(get_random_house(houses))\n",
    "    basis = np.array(basis)\n",
    "    \n",
    "    # проверяем, является ли этот набор базисом\n",
    "    det = np.linalg.det(basis)\n",
    "    if det != 0:\n",
    "        break\n",
    "\n",
    "print(\"Базис:\")\n",
    "print_basis(basis)\n",
    "\n",
    "house = np.array(get_random_house(houses))\n",
    "print(\"\\nДом:\")\n",
    "print_house(house)\n",
    "\n",
    "result = np.linalg.inv(basis).dot(house)\n",
    "print(\"\\nРезультат разложения:\")\n",
    "print_house(result)\n",
    "\n",
    "check = basis.dot(result)\n",
    "print(\"\\nПроверка:\")\n",
    "check = [round(x, 6) for x in check] # минимизируем погрешность (оставляем 6 знаков после запятой)\n",
    "print_house(check)"
   ]
  },
  {
   "cell_type": "markdown",
   "metadata": {},
   "source": [
    "**Уровень 0**  \n",
    "Даны вектора x=(1,1), y=(2, 0) и z=(0,2)  \n",
    "Надо:  \n",
    "Изобразить вектора на экране  \n",
    "Изобразить точку x + y + z  \n",
    "Найти угол между векторами x и y"
   ]
  },
  {
   "cell_type": "code",
   "execution_count": 229,
   "metadata": {},
   "outputs": [
    {
     "name": "stdout",
     "output_type": "stream",
     "text": [
      "Угол между векторами x и y составляет 45 градусов\n"
     ]
    },
    {
     "data": {
      "image/png": "[encoded data removed]",
      "text/plain": [
       "<Figure size 360x360 with 1 Axes>"
      ]
     },
     "metadata": {
      "needs_background": "light"
     },
     "output_type": "display_data"
    }
   ],
   "source": [
    "import numpy as np\n",
    "import matplotlib.pyplot as plt\n",
    "\n",
    "x = np.array([1, 1])\n",
    "y = np.array([2, 0])\n",
    "z = np.array([0, 2])\n",
    "p = x + y + z\n",
    "sc_mul = x.dot(y)\n",
    "mod_x = np.linalg.norm(x)\n",
    "mod_y = np.linalg.norm(y)\n",
    "cos = sc_mul / (mod_x * mod_y)\n",
    "alpha = int(np.arccos(cos) * 180 / np.pi)\n",
    "print(f\"Угол между векторами x и y составляет {alpha} градусов\")\n",
    "\n",
    "fig = plt.figure(figsize=(5, 5))\n",
    "ax = fig.gca()\n",
    "ax.arrow(0, 0, x[0], x[1], head_width=0.15, head_length=0.1, color=\"r\")\n",
    "ax.arrow(0, 0, y[0], y[1], head_width=0.15, head_length=0.1, color=\"g\")\n",
    "ax.arrow(0, 0, z[0], z[1], head_width=0.15, head_length=0.1, color=\"b\")\n",
    "plt.plot(p[0], p[1], 'ok')\n",
    "\n",
    "ax.annotate(\"x\", x * 0.4 + [0, 0.2])\n",
    "ax.annotate(\"y\", y * 0.5 + [0, 0.1])\n",
    "ax.annotate(\"z\", z * 0.5 + [-0.2, 0])\n",
    "ax.annotate(\"x + y + z\", p + [-0.4, -0.3])\n",
    "\n",
    "plt.xlim([-1, 4])\n",
    "plt.ylim([-1, 4])\n",
    "plt.grid(b=True, which='major') # plot grid lines\n",
    "plt.show()"
   ]
  }
 ],
 "metadata": {
  "kernelspec": {
   "display_name": "Python 3",
   "language": "python",
   "name": "python3"
  },
  "language_info": {
   "codemirror_mode": {
    "name": "ipython",
    "version": 3
   },
   "file_extension": ".py",
   "mimetype": "text/x-python",
   "name": "python",
   "nbconvert_exporter": "python",
   "pygments_lexer": "ipython3",
   "version": "3.7.6"
  }
 },
 "nbformat": 4,
 "nbformat_minor": 4
}
