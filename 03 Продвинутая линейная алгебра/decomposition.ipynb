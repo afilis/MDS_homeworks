{
 "cells": [
  {
   "cell_type": "markdown",
   "metadata": {},
   "source": [
    "**Уровень 1:**  \n",
    "1. Найдите спектральное разложение матрицы [[1, 2], [2, 3]]."
   ]
  },
  {
   "cell_type": "code",
   "execution_count": 1,
   "metadata": {},
   "outputs": [
    {
     "name": "stdout",
     "output_type": "stream",
     "text": [
      "Исходная матрица:\n",
      "[[1. 2.]\n",
      " [2. 3.]]\n",
      "Компоненты разложения:\n",
      "[[-0.85065081 -0.52573111]\n",
      " [ 0.52573111 -0.85065081]]\n",
      "[[-0.23606798  0.        ]\n",
      " [ 0.          4.23606798]]\n",
      "[[-0.85065081  0.52573111]\n",
      " [-0.52573111 -0.85065081]]\n",
      "Проверка:\n",
      "[[1. 2.]\n",
      " [2. 3.]]\n"
     ]
    }
   ],
   "source": [
    "import numpy as np\n",
    "\n",
    "m = np.array([[1, 2], [2, 3]], dtype=float)\n",
    "print(f\"Исходная матрица:\\n{m}\")\n",
    "\n",
    "lmd, vec = np.linalg.eig(m)\n",
    "a = vec\n",
    "b = np.diag(lmd)\n",
    "c = np.linalg.inv(vec)\n",
    "print(f\"Компоненты разложения:\\n{a}\\n{b}\\n{c}\")\n",
    "\n",
    "n = a.dot(b).dot(c)\n",
    "print(f\"Проверка:\\n{n}\")"
   ]
  },
  {
   "cell_type": "markdown",
   "metadata": {},
   "source": [
    "2. Постройте зависимость качества восстановления рукописных цифр (MNIST) в зависимости от различного количества компонент PCA. В качестве метрики различия предлагаю использовать MSE.  \n",
    "У PCA есть метод transform и inverse_transofrm. Первый - снижает размерность, второй - восстанавливает оригинальные данные с потерей информации.  \n",
    "Надо посчитать насколько в среднем точно восстанавливается оригинальная картинка в зависимости от количества компонент в PCA.  \n",
    "В качестве справки можно использовать:  \n",
    "Документация по PCA:  \n",
    "https://scikit-learn.org/stable/modules/generated/sklearn.decomposition.PCA.html  \n",
    "Документация по MSE:  \n",
    "https://scikit-learn.org/stable/modules/generated/sklearn.metrics.mean_squared_error.html  \n",
    "Картинки цифр можно взять отсюда:  \n",
    "https://scikit-learn.org/stable/modules/generated/sklearn.datasets.load_digits.html"
   ]
  },
  {
   "cell_type": "code",
   "execution_count": 2,
   "metadata": {},
   "outputs": [
    {
     "data": {
      "image/png": "[encoded data removed]",
      "text/plain": [
       "<Figure size 432x288 with 1 Axes>"
      ]
     },
     "metadata": {
      "needs_background": "light"
     },
     "output_type": "display_data"
    }
   ],
   "source": [
    "from sklearn.metrics import mean_squared_error\n",
    "from sklearn.datasets import load_digits\n",
    "from sklearn.decomposition import PCA\n",
    "import matplotlib.pyplot as plt\n",
    "\n",
    "res_x = []\n",
    "res_y = []\n",
    "X, _ = load_digits(return_X_y=True)\n",
    "for i in range(1, len(X[0])):\n",
    "    pca = PCA(n_components=i)\n",
    "    pca.fit(X)\n",
    "    TR = pca.transform(X)\n",
    "    INV = pca.inverse_transform(TR)\n",
    "    mse = mean_squared_error(X, INV)\n",
    "    res_x.append(i)\n",
    "    res_y.append(mse)\n",
    "\n",
    "plt.xlabel(\"Кол-во компонент\")\n",
    "plt.ylabel(\"Значение MSE\")\n",
    "plt.grid(b=True, which='major')\n",
    "plt.plot(res_x, res_y)\n",
    "plt.show()"
   ]
  },
  {
   "cell_type": "markdown",
   "metadata": {},
   "source": [
    "**Уровень 0**  \n",
    "1. Придумайте матрицы, которые обладают следующими свойствами:  \n",
    "a) диагональная, ортогональная, но не единичная(!):  \n",
    "b) верхнетреугольная, ортогональная:  \n",
    "c) нижнетреугольная, ортогональная:  \n",
    "d) матрица, у которой определитель = 1, и все элементы не равны 0:  \n",
    "P.S. Во всех пунктах ответом должна быть ненулевая матрица размерности не менее 2!"
   ]
  },
  {
   "cell_type": "code",
   "execution_count": 3,
   "metadata": {},
   "outputs": [
    {
     "name": "stdout",
     "output_type": "stream",
     "text": [
      "a) Диагональная ортогональная:\n",
      " [[-1  0  0]\n",
      " [ 0  1  0]\n",
      " [ 0  0 -1]]\n",
      "b) Верхнетреугольная ортогональная будет являться диагональной ортогональной.\n",
      "Это так, поскольку для верхнетреугольной ее обратная матрица будет тоже верхнетреугольной,\n",
      "а транпонированная - нижнетреугольной. Однако, ортогональная матрица требует,\n",
      "чтобы ее обратная и транспонированная матрицы были равны. Это возможно лишь тогда,\n",
      "когда элементы по обе стороны от главной диагонали равны нулю.\n",
      "c) Аналогично случаю b\n",
      "d) Определитель равен 1 и все элементы ненулевые:\n",
      " [[-3 -3  2]\n",
      " [-2  1 -5]\n",
      " [ 8  4  3]]\n"
     ]
    }
   ],
   "source": [
    "import numpy as np\n",
    "\n",
    "def is_orto(a):  \n",
    "    dot = np.dot(a, a.T)\n",
    "    return (dot == np.eye(len(dot))).all()\n",
    "\n",
    "a = np.diag([-1, 1, -1])\n",
    "d = np.array([[-3, -3, 2], [-2, 1, -5], [8, 4, 3]])\n",
    "\n",
    "if (is_orto(a)):\n",
    "    print(\"a) Диагональная ортогональная:\\n\", a)\n",
    "print(\"\"\"b) Верхнетреугольная ортогональная будет являться диагональной ортогональной.\n",
    "Это так, поскольку для верхнетреугольной ее обратная матрица будет тоже верхнетреугольной,\n",
    "а транпонированная - нижнетреугольной. Однако, ортогональная матрица требует,\n",
    "чтобы ее обратная и транспонированная матрицы были равны. Это возможно лишь тогда,\n",
    "когда элементы по обе стороны от главной диагонали равны нулю.\n",
    "c) Аналогично случаю b\"\"\")\n",
    "if (np.linalg.det(d) == 1):\n",
    "    print(\"d) Определитель равен 1 и все элементы ненулевые:\\n\", d)"
   ]
  },
  {
   "cell_type": "markdown",
   "metadata": {},
   "source": [
    "2. Найдите собственные значения и собственные вектора матрицы [[2, 2], [1, 3]]."
   ]
  },
  {
   "cell_type": "code",
   "execution_count": 4,
   "metadata": {},
   "outputs": [
    {
     "name": "stdout",
     "output_type": "stream",
     "text": [
      "Исходная матрица:\n",
      "[[2. 2.]\n",
      " [1. 3.]]\n",
      "Собственное значение 1.0, собственный вектор [-0.89442719  0.4472136 ]\n",
      "Собственное значение 4.0, собственный вектор [-0.70710678 -0.70710678]\n"
     ]
    }
   ],
   "source": [
    "m = np.array([[2, 2], [1, 3]], dtype=float)\n",
    "lmd, vec = np.linalg.eig(m)\n",
    "print(f\"Исходная матрица:\\n{m}\")\n",
    "for i in range(len(lmd)):\n",
    "    print(f\"Собственное значение {str(lmd[i])}, собственный вектор {str(vec[:,i])}\")"
   ]
  }
 ],
 "metadata": {
  "kernelspec": {
   "display_name": "Python 3",
   "language": "python",
   "name": "python3"
  },
  "language_info": {
   "codemirror_mode": {
    "name": "ipython",
    "version": 3
   },
   "file_extension": ".py",
   "mimetype": "text/x-python",
   "name": "python",
   "nbconvert_exporter": "python",
   "pygments_lexer": "ipython3",
   "version": "3.7.6"
  }
 },
 "nbformat": 4,
 "nbformat_minor": 4
}
